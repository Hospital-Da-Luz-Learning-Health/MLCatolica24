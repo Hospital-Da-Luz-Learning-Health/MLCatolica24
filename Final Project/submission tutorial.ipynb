{
 "cells": [
  {
   "cell_type": "markdown",
   "metadata": {},
   "source": [
    "![](https://i.imgflip.com/8wcscb.jpg)"
   ]
  },
  {
   "cell_type": "code",
   "execution_count": null,
   "metadata": {},
   "outputs": [],
   "source": [
    "import pandas as pd"
   ]
  },
  {
   "cell_type": "code",
   "execution_count": null,
   "metadata": {},
   "outputs": [],
   "source": [
    "from IPython.core.interactiveshell import InteractiveShell\n",
    "InteractiveShell.ast_node_interactivity = \"all\"\n",
    "pd.set_option('display.max_columns', None)"
   ]
  },
  {
   "cell_type": "markdown",
   "metadata": {},
   "source": [
    "# Read test data"
   ]
  },
  {
   "cell_type": "code",
   "execution_count": null,
   "metadata": {},
   "outputs": [],
   "source": [
    "test_df = pd.read_csv('https://raw.githubusercontent.com/Hospital-Da-Luz-Learning-Health/MLCatolica24/main/Final%20Project/data/test_no_labels.csv')\n",
    "test_df.head(3)\n",
    "test_df.shape"
   ]
  },
  {
   "cell_type": "markdown",
   "metadata": {},
   "source": [
    "# Apply the same data processing you did to your training data\n",
    "\n",
    "If you changed features or created new ones before training your models, you need to do the same for the test data :) "
   ]
  },
  {
   "cell_type": "code",
   "execution_count": null,
   "metadata": {},
   "outputs": [],
   "source": [
    "#test_df = ... # apply the same preprocessing as for the training data"
   ]
  },
  {
   "cell_type": "markdown",
   "metadata": {},
   "source": [
    "Now you use your trained model to get prediction, i'll call it `model`. We require two things:\n",
    "1) Your model's probabilities with `model.predict_proba(test_df)[:,1]`.\n",
    "   1)  Beware, decision tree probabilities are only 1 or 0. Don't worry about that, but still give us this output. \n",
    "   2)  Also, the `[:,1]` is because `.predict_proba` returns a matrix with 2 columns where the first is the probas for the class 0, and the second column the columns for the class 1. We are interested in class 1 probabilities so we select all rows and only the second column with `[:,1]`\n",
    "2) Your model's predictions. If you are using the default 0.5 threshold you just have to run `preds = probas > 0.5`. If you made a threshold analysis to choose a different decision threshold, you just change the threshold like so `preds = probas > threshold` for your chosen threshold"
   ]
  },
  {
   "cell_type": "markdown",
   "metadata": {},
   "source": [
    "Here's some example code to setup your submission"
   ]
  },
  {
   "cell_type": "code",
   "execution_count": null,
   "metadata": {},
   "outputs": [],
   "source": [
    "# To obtain model probabilities #\n",
    "probas = model.predict_proba(test_df)[:,1] # i'm assuming \"model\" is your trained model\n",
    "\n",
    "# To obtain model prediction #\n",
    "threshold = 0.5 # or another one if you decided to use a different one after your analysis\n",
    "predictions = probas > threshold"
   ]
  },
  {
   "cell_type": "code",
   "execution_count": null,
   "metadata": {},
   "outputs": [],
   "source": [
    "# prepare your submission\n",
    "\n",
    "submission_data = {'id': test_df['encounter_id'], # the encounter_id column of the test data\n",
    "                   'target': predictions,\n",
    "                   'probas': probas\n",
    "                   }\n",
    "\n",
    "submission_data = pd.DataFrame(submission_data)\n",
    "submission_data.head(3)\n",
    "submission_data.shape"
   ]
  },
  {
   "cell_type": "markdown",
   "metadata": {},
   "source": [
    "Run the cell below, if it gives any error, it is because you did something wrong"
   ]
  },
  {
   "cell_type": "code",
   "execution_count": null,
   "metadata": {},
   "outputs": [],
   "source": [
    "assert submission_data.shape[1] == 3, \"The number of columns in your submission should be 3.\"\n",
    "assert all([col in ['id','target','probas'] for col in submission_data.columns]), \"Do you have the 3 required columns? We expect 'id', 'target' and 'probas'.\"\n",
    "\n",
    "assert submission_data.shape[0] == test_df.shape[0], \"The number of rows in your submission should be the same as the number of rows in the test data.\"\n",
    "assert submission_data['id'].equals(test_df['encounter_id']), \"The 'id' column of your submission should be the 'encounter_id' column of the test data.\"\n",
    "\n",
    "assert (submission_data['probas'] <= 1.0) & (submission_data['probas'] >= 0.0), \"The probabilities should be.... probabilities. We found values below 0 or greater than 1 in your submission\"\n",
    "# check if target is either True or False, or 0 and 1\n",
    "assert all([x in [True, False] for x in submission_data['target']]) or all([x in [0, 1] for x in submission_data['target']]), \"The target column should be either True/False or 0/1\""
   ]
  },
  {
   "cell_type": "markdown",
   "metadata": {},
   "source": [
    "If the code above passes then you are free to save this submission in a `.csv` file for us to evaluate your performance. So save this into google drive with the following line of code"
   ]
  },
  {
   "cell_type": "code",
   "execution_count": null,
   "metadata": {},
   "outputs": [],
   "source": [
    "submission_data.to_csv('/content/submission.csv', index=False)"
   ]
  },
  {
   "cell_type": "markdown",
   "metadata": {},
   "source": [
    "Your data should appear here in the colab. You have to download it to your computer and submit to us :) "
   ]
  },
  {
   "cell_type": "markdown",
   "metadata": {},
   "source": [
    "![](media/colab_submission.png)"
   ]
  },
  {
   "cell_type": "markdown",
   "metadata": {},
   "source": [
    "Aaaand you're done!"
   ]
  },
  {
   "cell_type": "markdown",
   "metadata": {},
   "source": [
    "![](https://i.imgflip.com/8wcsj3.jpg)"
   ]
  },
  {
   "cell_type": "markdown",
   "metadata": {},
   "source": []
  }
 ],
 "metadata": {
  "kernelspec": {
   "display_name": "MLCatolica24",
   "language": "python",
   "name": "python3"
  },
  "language_info": {
   "codemirror_mode": {
    "name": "ipython",
    "version": 3
   },
   "file_extension": ".py",
   "mimetype": "text/x-python",
   "name": "python",
   "nbconvert_exporter": "python",
   "pygments_lexer": "ipython3",
   "version": "3.12.3"
  }
 },
 "nbformat": 4,
 "nbformat_minor": 2
}
